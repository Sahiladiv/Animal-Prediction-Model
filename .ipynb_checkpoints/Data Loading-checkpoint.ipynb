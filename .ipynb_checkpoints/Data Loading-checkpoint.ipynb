{
 "cells": [
  {
   "cell_type": "code",
   "execution_count": 228,
   "id": "27f4eab8",
   "metadata": {},
   "outputs": [],
   "source": [
    "import numpy\n",
    "import cv2\n",
    "import os\n",
    "import matplotlib.pyplot\n",
    "import random\n",
    "import pickle\n",
    "import tensorflow"
   ]
  },
  {
   "cell_type": "code",
   "execution_count": 229,
   "id": "c69c8d7e",
   "metadata": {},
   "outputs": [],
   "source": [
    "DIR = \"Tensorflow/Animal Photos/\""
   ]
  },
  {
   "cell_type": "code",
   "execution_count": 230,
   "id": "9fc86ff0",
   "metadata": {},
   "outputs": [],
   "source": [
    "CATEGORIES = [\"Beaver\",\"Deer\",\"Elephant\",\"Giraffe\"]"
   ]
  },
  {
   "cell_type": "code",
   "execution_count": 234,
   "id": "e15e5f3c",
   "metadata": {},
   "outputs": [],
   "source": [
    "training_data = []\n",
    "def create_training_data():\n",
    "    for category in CATEGORIES:\n",
    "        path = os.path.join(DIR, category)\n",
    "        class_number = CATEGORIES.index(category)\n",
    "\n",
    "        for imgs in os.listdir(path):\n",
    "            img_array = cv2.imread(os.path.join(path,imgs), cv2.IMREAD_GRAYSCALE)\n",
    "            dim = (50,50)\n",
    "            try:\n",
    "                img_array = cv2.resize(img_array, dim)\n",
    "                training_data.append([img_array, class_number])\n",
    "            except Exception:\n",
    "                pass"
   ]
  },
  {
   "cell_type": "code",
   "execution_count": 235,
   "id": "e603ad5b",
   "metadata": {},
   "outputs": [],
   "source": [
    "create_training_data()"
   ]
  },
  {
   "cell_type": "code",
   "execution_count": 237,
   "id": "21b76382",
   "metadata": {},
   "outputs": [],
   "source": [
    "##To shuffle the data\n",
    "random.shuffle(training_data)"
   ]
  },
  {
   "cell_type": "code",
   "execution_count": 241,
   "id": "12556dd1",
   "metadata": {},
   "outputs": [],
   "source": [
    "l = []\n",
    "f = []\n",
    "\n",
    "for features, label in training_data:\n",
    "    l.append(label)\n",
    "    f.append(features)\n",
    "\n",
    "f = numpy.array(f).reshape(-1,50,50,1)\n",
    "l = numpy.array(l)\n"
   ]
  },
  {
   "cell_type": "code",
   "execution_count": 243,
   "id": "5a70d83e",
   "metadata": {},
   "outputs": [],
   "source": [
    "pickle_out = open(\"f.pickle\",\"wb\")\n",
    "pickle.dump(f,pickle_out)\n",
    "pickle_out.close()"
   ]
  },
  {
   "cell_type": "code",
   "execution_count": 244,
   "id": "74588b67",
   "metadata": {},
   "outputs": [],
   "source": [
    "pickle_out = open(\"l.pickle\",\"wb\")\n",
    "pickle.dump(l,pickle_out)\n",
    "pickle_out.close()"
   ]
  }
 ],
 "metadata": {
  "kernelspec": {
   "display_name": "Python 3 (ipykernel)",
   "language": "python",
   "name": "python3"
  },
  "language_info": {
   "codemirror_mode": {
    "name": "ipython",
    "version": 3
   },
   "file_extension": ".py",
   "mimetype": "text/x-python",
   "name": "python",
   "nbconvert_exporter": "python",
   "pygments_lexer": "ipython3",
   "version": "3.9.7"
  }
 },
 "nbformat": 4,
 "nbformat_minor": 5
}
