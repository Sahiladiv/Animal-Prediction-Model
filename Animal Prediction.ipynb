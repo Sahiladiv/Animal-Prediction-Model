{
 "cells": [
  {
   "cell_type": "code",
   "execution_count": 79,
   "id": "1b1d27b1",
   "metadata": {},
   "outputs": [],
   "source": [
    "import numpy\n",
    "import cv2\n",
    "import tensorflow as tf"
   ]
  },
  {
   "cell_type": "code",
   "execution_count": 80,
   "id": "8fbf071d",
   "metadata": {},
   "outputs": [],
   "source": [
    "CATEGORIES = [\"Beaver\",\"Deer\",\"Elephant\",\"Giraffe\"]"
   ]
  },
  {
   "cell_type": "code",
   "execution_count": 81,
   "id": "5a3deb01",
   "metadata": {},
   "outputs": [],
   "source": [
    "def prepare(filepath):\n",
    "    img_array = cv2.imread(filepath, cv2.IMREAD_GRAYSCALE)\n",
    "    dim = (50,50)\n",
    "    try:\n",
    "        img_array = cv2.resize(img_array, dim)\n",
    "        return img_array.reshape(-1,50,50,1)\n",
    "    except Exception:\n",
    "        pass\n",
    "    return -1"
   ]
  },
  {
   "cell_type": "code",
   "execution_count": 82,
   "id": "1c8eb5cf",
   "metadata": {},
   "outputs": [],
   "source": [
    "model = tf.keras.models.load_model(\"AnimalPredictionModel.model\")"
   ]
  },
  {
   "cell_type": "code",
   "execution_count": 83,
   "id": "707436a6",
   "metadata": {},
   "outputs": [],
   "source": [
    "prediction = model.predict([prepare('images103.jpg')])"
   ]
  },
  {
   "cell_type": "code",
   "execution_count": 84,
   "id": "e85bd1e0",
   "metadata": {},
   "outputs": [],
   "source": [
    "# print(CATEGORIES[int(prediction[0][4])])"
   ]
  },
  {
   "cell_type": "code",
   "execution_count": 87,
   "id": "a5a66b60",
   "metadata": {},
   "outputs": [
    {
     "data": {
      "text/plain": [
       "array([0.0000000e+00, 1.5103737e-38, 0.0000000e+00, 1.0000000e+00],\n",
       "      dtype=float32)"
      ]
     },
     "execution_count": 87,
     "metadata": {},
     "output_type": "execute_result"
    }
   ],
   "source": [
    "max(prediction)"
   ]
  },
  {
   "cell_type": "code",
   "execution_count": null,
   "id": "64f07ecc",
   "metadata": {},
   "outputs": [],
   "source": []
  },
  {
   "cell_type": "code",
   "execution_count": null,
   "id": "83b2e222",
   "metadata": {},
   "outputs": [],
   "source": []
  }
 ],
 "metadata": {
  "kernelspec": {
   "display_name": "Python 3 (ipykernel)",
   "language": "python",
   "name": "python3"
  },
  "language_info": {
   "codemirror_mode": {
    "name": "ipython",
    "version": 3
   },
   "file_extension": ".py",
   "mimetype": "text/x-python",
   "name": "python",
   "nbconvert_exporter": "python",
   "pygments_lexer": "ipython3",
   "version": "3.9.7"
  }
 },
 "nbformat": 4,
 "nbformat_minor": 5
}
