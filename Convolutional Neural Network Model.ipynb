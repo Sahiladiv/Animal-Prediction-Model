{
 "cells": [
  {
   "cell_type": "code",
   "execution_count": 202,
   "id": "92954bb5",
   "metadata": {},
   "outputs": [],
   "source": [
    "import pickle\n",
    "import tensorflow as tf\n",
    "from tensorflow.keras.models import Sequential\n",
    "from tensorflow.keras.layers import Dense, Dropout, Activation, Flatten, Conv2D, MaxPooling2D"
   ]
  },
  {
   "cell_type": "code",
   "execution_count": 203,
   "id": "ce75a636",
   "metadata": {},
   "outputs": [],
   "source": [
    "X = pickle.load(open(\"f.pickle\",\"rb\"))\n",
    "y = pickle.load(open(\"l.pickle\",\"rb\"))"
   ]
  },
  {
   "cell_type": "code",
   "execution_count": 204,
   "id": "c8fea80a",
   "metadata": {},
   "outputs": [],
   "source": [
    "model = Sequential()\n",
    "X = X/255.0"
   ]
  },
  {
   "cell_type": "code",
   "execution_count": 205,
   "id": "86025aa4",
   "metadata": {},
   "outputs": [],
   "source": [
    "model.add(Conv2D(64, (5,5) ,input_shape = X.shape[1:]))\n",
    "model.add(Activation(\"relu\"))\n",
    "model.add(MaxPooling2D(pool_size=(2,2)))"
   ]
  },
  {
   "cell_type": "code",
   "execution_count": 206,
   "id": "8aceb4a8",
   "metadata": {},
   "outputs": [],
   "source": [
    "model.add(Conv2D(64, (3,3)))\n",
    "model.add(Activation(\"relu\"))\n",
    "model.add(MaxPooling2D(pool_size=(2,2)))"
   ]
  },
  {
   "cell_type": "code",
   "execution_count": 207,
   "id": "7398acf2",
   "metadata": {},
   "outputs": [],
   "source": [
    "model.add(Flatten())\n",
    "model.add(Dense(64))\n",
    "model.add(Activation(\"relu\"))"
   ]
  },
  {
   "cell_type": "code",
   "execution_count": 208,
   "id": "c9088bc9",
   "metadata": {},
   "outputs": [],
   "source": [
    "# model.add(Dense(4)) ##No. of categories = 4 (Breaver, Dear, Elephant, Giraffe)\n",
    "# model.add(Activation(\"sigmoid\"))\n",
    "\n",
    "model.add(tf.keras.layers.Dense(4, activation=tf.nn.softmax))"
   ]
  },
  {
   "cell_type": "code",
   "execution_count": 209,
   "id": "0b2aaff1",
   "metadata": {
    "scrolled": false
   },
   "outputs": [
    {
     "name": "stdout",
     "output_type": "stream",
     "text": [
      "Epoch 1/10\n",
      "22/22 [==============================] - 5s 200ms/step - loss: 1.3611 - accuracy: 0.3136 - val_loss: 1.2982 - val_accuracy: 0.3129\n",
      "Epoch 2/10\n",
      "22/22 [==============================] - 4s 198ms/step - loss: 1.1810 - accuracy: 0.4719 - val_loss: 1.1784 - val_accuracy: 0.4847\n",
      "Epoch 3/10\n",
      "22/22 [==============================] - 5s 205ms/step - loss: 1.0901 - accuracy: 0.5419 - val_loss: 1.1173 - val_accuracy: 0.5136\n",
      "Epoch 4/10\n",
      "22/22 [==============================] - 4s 199ms/step - loss: 0.9835 - accuracy: 0.6025 - val_loss: 1.2005 - val_accuracy: 0.4830\n",
      "Epoch 5/10\n",
      "22/22 [==============================] - 4s 198ms/step - loss: 0.9965 - accuracy: 0.6047 - val_loss: 1.0842 - val_accuracy: 0.5425\n",
      "Epoch 6/10\n",
      "22/22 [==============================] - 4s 200ms/step - loss: 0.8941 - accuracy: 0.6441 - val_loss: 1.0310 - val_accuracy: 0.5629\n",
      "Epoch 7/10\n",
      "22/22 [==============================] - 4s 191ms/step - loss: 0.8520 - accuracy: 0.6535 - val_loss: 1.0250 - val_accuracy: 0.5816\n",
      "Epoch 8/10\n",
      "22/22 [==============================] - 4s 186ms/step - loss: 0.7764 - accuracy: 0.6973 - val_loss: 0.9916 - val_accuracy: 0.6003\n",
      "Epoch 9/10\n",
      "22/22 [==============================] - 4s 186ms/step - loss: 0.7218 - accuracy: 0.7155 - val_loss: 1.0263 - val_accuracy: 0.5714\n",
      "Epoch 10/10\n",
      "22/22 [==============================] - 4s 186ms/step - loss: 0.6452 - accuracy: 0.7491 - val_loss: 1.0869 - val_accuracy: 0.5833\n"
     ]
    },
    {
     "data": {
      "text/plain": [
       "<keras.callbacks.History at 0x23188cb4730>"
      ]
     },
     "execution_count": 209,
     "metadata": {},
     "output_type": "execute_result"
    }
   ],
   "source": [
    "model.compile(optimizer='adam', loss='sparse_categorical_crossentropy',metrics=['accuracy'])\n",
    "model.fit(X,y,epochs=10, batch_size=64, validation_split=0.3)"
   ]
  },
  {
   "cell_type": "code",
   "execution_count": 210,
   "id": "76fa0cc4",
   "metadata": {},
   "outputs": [
    {
     "name": "stdout",
     "output_type": "stream",
     "text": [
      "INFO:tensorflow:Assets written to: AnimalPredictionModel.model\\assets\n"
     ]
    }
   ],
   "source": [
    "model.save('AnimalPredictionModel.model')"
   ]
  }
 ],
 "metadata": {
  "kernelspec": {
   "display_name": "Python 3 (ipykernel)",
   "language": "python",
   "name": "python3"
  },
  "language_info": {
   "codemirror_mode": {
    "name": "ipython",
    "version": 3
   },
   "file_extension": ".py",
   "mimetype": "text/x-python",
   "name": "python",
   "nbconvert_exporter": "python",
   "pygments_lexer": "ipython3",
   "version": "3.9.7"
  }
 },
 "nbformat": 4,
 "nbformat_minor": 5
}
